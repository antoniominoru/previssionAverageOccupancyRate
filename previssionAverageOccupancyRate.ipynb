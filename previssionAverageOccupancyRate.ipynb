{
 "cells": [
  {
   "cell_type": "markdown",
   "source": [
    "# Prevission of average occupancy rate - DSA"
   ],
   "metadata": {}
  },
  {
   "cell_type": "markdown",
   "source": [
    "Our job is to build a Machine Learning model that is able to make predictions about the average occupancy rate of homes in the Boston region, USA, by owners."
   ],
   "metadata": {}
  },
  {
   "cell_type": "markdown",
   "source": [
    "1. CRIM: per capita crime rate by town \n",
    "2. ZN: proportion of residential land zoned for lots over 25,000 sq.ft. \n",
    "3. INDUS: proportion of non-retail business acres per town \n",
    "4. CHAS: Charles River dummy variable (= 1 if tract bounds river; 0 otherwise) \n",
    "5. NOX: nitric oxides concentration (parts per 10 million) \n",
    "6. RM: average number of rooms per dwelling \n",
    "7. AGE: proportion of owner-occupied units built prior to 1940 \n",
    "8. DIS: weighted distances to five Boston employment centres \n",
    "9. RAD: index of accessibility to radial highways \n",
    "10. TAX: full-value property-tax rate per 10,000 \n",
    "11. PTRATIO: pupil-teacher ratio by town \n",
    "12. B: 1000(Bk - 0.63)^2 where Bk is the proportion of blacks by town \n",
    "13. LSTAT: % lower status of the population \n",
    "14. TARGET: Median value of owner-occupied homes in $1000's"
   ],
   "metadata": {}
  },
  {
   "cell_type": "code",
   "execution_count": 1,
   "source": [
    "# imports\r\n",
    "import numpy as np\r\n",
    "import pandas as pd\r\n",
    "import statsmodels.api as sm\r\n",
    "from sklearn.datasets import load_boston\r\n",
    "from sklearn.metrics import r2_score\r\n",
    "from sklearn import linear_model\r\n",
    "from sklearn.model_selection import train_test_split\r\n",
    "from sklearn.linear_model import LinearRegression\r\n",
    "import warnings\r\n",
    "warnings.filterwarnings(\"ignore\")\r\n",
    "%matplotlib inline \r\n",
    "\r\n",
    "# Load Dataset Boston Houses\r\n",
    "boston = load_boston() \r\n",
    "dataset = pd.DataFrame(boston.data, columns = boston.feature_names)\r\n",
    "dataset['target'] = boston.target"
   ],
   "outputs": [],
   "metadata": {}
  },
  {
   "cell_type": "markdown",
   "source": [
    "# Simple Linear Regression with StatsModels"
   ],
   "metadata": {}
  },
  {
   "cell_type": "code",
   "execution_count": 2,
   "source": [
    "y = dataset['target']\r\n",
    "X = dataset['RM']\r\n",
    "X = sm.add_constant(X)\r\n",
    "\r\n",
    "# Create model\r\n",
    "model_v1 = sm.OLS(y, X)\r\n",
    "\r\n",
    "# Train Model\r\n",
    "model_v1 = model_v1.fit()\r\n",
    "\r\n",
    "print(model_v1.summary())"
   ],
   "outputs": [
    {
     "output_type": "stream",
     "name": "stdout",
     "text": [
      "                            OLS Regression Results                            \n",
      "==============================================================================\n",
      "Dep. Variable:                 target   R-squared:                       0.484\n",
      "Model:                            OLS   Adj. R-squared:                  0.483\n",
      "Method:                 Least Squares   F-statistic:                     471.8\n",
      "Date:                Thu, 23 Sep 2021   Prob (F-statistic):           2.49e-74\n",
      "Time:                        18:01:48   Log-Likelihood:                -1673.1\n",
      "No. Observations:                 506   AIC:                             3350.\n",
      "Df Residuals:                     504   BIC:                             3359.\n",
      "Df Model:                           1                                         \n",
      "Covariance Type:            nonrobust                                         \n",
      "==============================================================================\n",
      "                 coef    std err          t      P>|t|      [0.025      0.975]\n",
      "------------------------------------------------------------------------------\n",
      "const        -34.6706      2.650    -13.084      0.000     -39.877     -29.465\n",
      "RM             9.1021      0.419     21.722      0.000       8.279       9.925\n",
      "==============================================================================\n",
      "Omnibus:                      102.585   Durbin-Watson:                   0.684\n",
      "Prob(Omnibus):                  0.000   Jarque-Bera (JB):              612.449\n",
      "Skew:                           0.726   Prob(JB):                    1.02e-133\n",
      "Kurtosis:                       8.190   Cond. No.                         58.4\n",
      "==============================================================================\n",
      "\n",
      "Notes:\n",
      "[1] Standard Errors assume that the covariance matrix of the errors is correctly specified.\n"
     ]
    }
   ],
   "metadata": {}
  },
  {
   "cell_type": "code",
   "execution_count": 3,
   "source": [
    "print(model_v1.params)"
   ],
   "outputs": [
    {
     "output_type": "stream",
     "name": "stdout",
     "text": [
      "const   -34.670621\n",
      "RM        9.102109\n",
      "dtype: float64\n"
     ]
    }
   ],
   "metadata": {}
  },
  {
   "cell_type": "code",
   "execution_count": 4,
   "source": [
    "# Make previsions\r\n",
    "RM = 5\r\n",
    "Xp = np.array([1, RM])\r\n",
    "print (\"if RM = %01.f the average occupancy rate is %0.1f\" % (RM, model_v1.predict(Xp)))"
   ],
   "outputs": [
    {
     "output_type": "stream",
     "name": "stdout",
     "text": [
      "if RM = 5 the average occupancy rate is 10.8\n"
     ]
    }
   ],
   "metadata": {}
  },
  {
   "cell_type": "markdown",
   "source": [
    "## ScatterPlot with Linear Regression"
   ],
   "metadata": {}
  },
  {
   "cell_type": "code",
   "execution_count": 5,
   "source": [
    "predict_values = model_v1.predict(X)\r\n",
    "x_range = [dataset['RM'].min(), dataset['RM'].max()]\r\n",
    "y_range = [dataset['target'].min(), dataset['target'].max()]\r\n",
    "\r\n",
    "scatter_plot = dataset.plot(kind = 'scatter', x = 'RM', y = 'target', xlim = x_range, ylim = y_range)\r\n",
    "meanY = scatter_plot.plot(x_range, [dataset['target'].mean(),dataset['target'].mean()], '--', color = 'red', linewidth = 1)\r\n",
    "meanX = scatter_plot.plot([dataset['RM'].mean(),dataset['RM'].mean()], y_range, '--', color = 'red', linewidth = 1)\r\n",
    "regression_line = scatter_plot.plot(dataset['RM'], predict_values, '-', color = 'orange', linewidth = 2)"
   ],
   "outputs": [
    {
     "output_type": "display_data",
     "data": {
      "image/png": "[encoded data removed]",
      "text/plain": [
       "<Figure size 432x288 with 1 Axes>"
      ]
     },
     "metadata": {
      "needs_background": "light"
     }
    }
   ],
   "metadata": {}
  },
  {
   "cell_type": "markdown",
   "source": [
    "# Simple Linear Regression with Scikit-Learn"
   ],
   "metadata": {}
  },
  {
   "cell_type": "code",
   "execution_count": 6,
   "source": [
    "num_observ = len(dataset)\r\n",
    "X = dataset['RM'].values.reshape((num_observ, 1))\r\n",
    "y = dataset['target'].values\r\n",
    "\r\n",
    "# Create model\r\n",
    "model_v2 = linear_model.LinearRegression(normalize = False, fit_intercept = True)\r\n",
    "\r\n",
    "# Training model\r\n",
    "model_v2.fit(X,y)\r\n",
    "\r\n",
    "# Coeficients\r\n",
    "print (model_v2.coef_)\r\n",
    "print (model_v2.intercept_)"
   ],
   "outputs": [
    {
     "output_type": "stream",
     "name": "stdout",
     "text": [
      "[9.10210898]\n",
      "-34.670620776438554\n"
     ]
    }
   ],
   "metadata": {}
  },
  {
   "cell_type": "code",
   "execution_count": 7,
   "source": [
    "# Make previsions\r\n",
    "RM = 5\r\n",
    "Xp = np.array(RM).reshape(-1, 1)\r\n",
    "print (\"if RM = %01.f the average occupancy rate is %0.1f\" % (RM, model_v2.predict(Xp)))"
   ],
   "outputs": [
    {
     "output_type": "stream",
     "name": "stdout",
     "text": [
      "if RM = 5 the average occupancy rate is 10.8\n"
     ]
    }
   ],
   "metadata": {}
  },
  {
   "cell_type": "markdown",
   "source": [
    "# Multiple Linear Regression with with Scikit-Learn"
   ],
   "metadata": {}
  },
  {
   "cell_type": "code",
   "execution_count": 8,
   "source": [
    "X = dataset[['LSTAT', 'RM', 'DIS', 'PTRATIO']]\r\n",
    "y = dataset['target'].values\r\n",
    "\r\n",
    "# Split train and test\r\n",
    "X_train, X_test, y_train, y_test = train_test_split(X, y, test_size=0.2, random_state = 42)\r\n",
    "\r\n",
    "# Create model\r\n",
    "model_v3 = LinearRegression(normalize = False, fit_intercept = True)\r\n",
    "\r\n",
    "# Train model\r\n",
    "model_v3 = model_v3.fit(X_train, y_train)\r\n",
    "\r\n",
    "# R2\r\n",
    "print(\"R2: \",r2_score(y_test, model_v3.fit(X_train, y_train).predict(X_test)))"
   ],
   "outputs": [
    {
     "output_type": "stream",
     "name": "stdout",
     "text": [
      "R2:  0.6347923449246606\n"
     ]
    }
   ],
   "metadata": {}
  },
  {
   "cell_type": "code",
   "execution_count": 9,
   "source": [
    "# Make previsions\r\n",
    "LSTAT = 5\r\n",
    "RM = 8\r\n",
    "DIS = 6\r\n",
    "PTRATIO = 19\r\n",
    "\r\n",
    "new_data = [LSTAT, RM, DIS, PTRATIO]\r\n",
    "Xp = np.array(new_data).reshape(1, -1)\r\n",
    "\r\n",
    "print(\"Average Occupancy rate:\", model_v3.predict(Xp))"
   ],
   "outputs": [
    {
     "output_type": "stream",
     "name": "stdout",
     "text": [
      "Average Occupancy rate: [33.65282404]\n"
     ]
    }
   ],
   "metadata": {}
  }
 ],
 "metadata": {
  "anaconda-cloud": {},
  "kernelspec": {
   "name": "python3",
   "display_name": "Python 3.8.5 64-bit ('base': conda)"
  },
  "language_info": {
   "codemirror_mode": {
    "name": "ipython",
    "version": 3
   },
   "file_extension": ".py",
   "mimetype": "text/x-python",
   "name": "python",
   "nbconvert_exporter": "python",
   "pygments_lexer": "ipython3",
   "version": "3.8.5"
  },
  "interpreter": {
   "hash": "fbdb791eff7b06cb9799a08a00b18e75aea504e625bd259c9110c1a52aa0a0fd"
  }
 },
 "nbformat": 4,
 "nbformat_minor": 1
}